{
  "nbformat": 4,
  "nbformat_minor": 0,
  "metadata": {
    "colab": {
      "name": "term-statistics.ipynb",
      "provenance": [],
      "include_colab_link": true
    },
    "kernelspec": {
      "name": "python3",
      "display_name": "Python 3"
    },
    "language_info": {
      "name": "python"
    }
  },
  "cells": [
    {
      "cell_type": "markdown",
      "metadata": {
        "id": "view-in-github",
        "colab_type": "text"
      },
      "source": [
        "<a href=\"https://colab.research.google.com/github/ritish1082/API-Nnaay-Saathee/blob/main/term_statistics.ipynb\" target=\"_parent\"><img src=\"https://colab.research.google.com/assets/colab-badge.svg\" alt=\"Open In Colab\"/></a>"
      ]
    },
    {
      "cell_type": "markdown",
      "metadata": {
        "id": "2yYCQrU0J5C5"
      },
      "source": [
        "# Working with Terms and Documents\n",
        "\n",
        "This exercise starts off with term statistics computations and graphing. In the final section (for CS6200 students), you collect new documents to experiment with.\n",
        "\n",
        "Read through this Jupyter notebook and fill in the parts marked with `TODO`."
      ]
    },
    {
      "cell_type": "markdown",
      "metadata": {
        "id": "tA4bCPS1MmAx"
      },
      "source": [
        "## Sample Data\n",
        "\n",
        "Start by looking at some sample data. We donwload the counts of terms in documents for the first one million tokens of a newswire collection."
      ]
    },
    {
      "cell_type": "code",
      "metadata": {
        "id": "W-IMINS4IFUg",
        "colab": {
          "base_uri": "https://localhost:8080/"
        },
        "outputId": "8b5229dd-d914-41a0-e87c-ba55fab24267"
      },
      "source": [
        "!wget -O ap201001.json.gz https://github.com/dasmiq/cs6200-documents/blob/main/ap201001.json.gz?raw=true\n",
        "!gunzip ap201001.json.gz"
      ],
      "execution_count": 1,
      "outputs": [
        {
          "output_type": "stream",
          "name": "stdout",
          "text": [
            "--2025-01-29 20:49:18--  https://github.com/dasmiq/cs6200-documents/blob/main/ap201001.json.gz?raw=true\n",
            "Resolving github.com (github.com)... 140.82.113.3\n",
            "Connecting to github.com (github.com)|140.82.113.3|:443... connected.\n",
            "HTTP request sent, awaiting response... 302 Found\n",
            "Location: https://github.com/dasmiq/cs6200-documents/raw/refs/heads/main/ap201001.json.gz [following]\n",
            "--2025-01-29 20:49:19--  https://github.com/dasmiq/cs6200-documents/raw/refs/heads/main/ap201001.json.gz\n",
            "Reusing existing connection to github.com:443.\n",
            "HTTP request sent, awaiting response... 302 Found\n",
            "Location: https://raw.githubusercontent.com/dasmiq/cs6200-documents/refs/heads/main/ap201001.json.gz [following]\n",
            "--2025-01-29 20:49:19--  https://raw.githubusercontent.com/dasmiq/cs6200-documents/refs/heads/main/ap201001.json.gz\n",
            "Resolving raw.githubusercontent.com (raw.githubusercontent.com)... 185.199.111.133, 185.199.108.133, 185.199.109.133, ...\n",
            "Connecting to raw.githubusercontent.com (raw.githubusercontent.com)|185.199.111.133|:443... connected.\n",
            "HTTP request sent, awaiting response... 200 OK\n",
            "Length: 2854711 (2.7M) [application/octet-stream]\n",
            "Saving to: ‘ap201001.json.gz’\n",
            "\n",
            "ap201001.json.gz    100%[===================>]   2.72M  --.-KB/s    in 0.06s   \n",
            "\n",
            "2025-01-29 20:49:19 (46.2 MB/s) - ‘ap201001.json.gz’ saved [2854711/2854711]\n",
            "\n",
            "gzip: ap201001.json already exists; do you wish to overwrite (y or n)? y\n"
          ]
        }
      ]
    },
    {
      "cell_type": "markdown",
      "metadata": {
        "id": "_SEFjGZvM4lY"
      },
      "source": [
        "We convert this file with one JSON record on each line to a list of dictionaries."
      ]
    },
    {
      "cell_type": "code",
      "metadata": {
        "id": "6CrLD5SOIMz1"
      },
      "source": [
        "import json\n",
        "rawfile = open('ap201001.json')\n",
        "terms = [json.loads(line) for line in rawfile]"
      ],
      "execution_count": 2,
      "outputs": []
    },
    {
      "cell_type": "markdown",
      "metadata": {
        "id": "Rg4P9XJJM_lZ"
      },
      "source": [
        "Here are the first ten records, showing the count of each term for each document and field. In this dataset, field only takes the values `body` or `title`."
      ]
    },
    {
      "cell_type": "code",
      "metadata": {
        "colab": {
          "base_uri": "https://localhost:8080/"
        },
        "id": "g8GdOuyzI0wm",
        "outputId": "c3b1a945-7352-4188-ed7e-838b3560d86b"
      },
      "source": [
        "# Some data about terms\n",
        "print(\"Number of terms\", len(terms))\n",
        "print(terms[0])"
      ],
      "execution_count": 3,
      "outputs": [
        {
          "output_type": "stream",
          "name": "stdout",
          "text": [
            "Number of terms 538301\n",
            "{'id': 'APW_ENG_20100101.0001', 'field': 'body', 'term': 'a', 'count': 16}\n"
          ]
        }
      ]
    },
    {
      "cell_type": "markdown",
      "metadata": {
        "id": "q-CjFLXH3BJg"
      },
      "source": [
        "Each record has four fields:\n",
        "* `id`, with the identifier for the document;\n",
        "* `field`, with the region of the document containing a given term;\n",
        "* `term`, with the lower-cased term; and\n",
        "* `count`, with the number of times each term occurred in that field and document."
      ]
    },
    {
      "cell_type": "markdown",
      "metadata": {
        "id": "2H5yBvEVNUPr"
      },
      "source": [
        "## Computing Term Statistics\n"
      ]
    },
    {
      "cell_type": "markdown",
      "metadata": {
        "id": "qhDt23kKv0Uy"
      },
      "source": [
        "If we look at the most frequent terms for a given document, we mostly see common function words, such as `the`, `and`, and `of`. Start exploring the dataset by computing some of these basic term statistics. You can make your life easier using data frame libraries such as `pandas`, core python libraries such as `collections`, or just simple list comprehensions.\n",
        "\n",
        "Feel free to define helper functions in your code before computing the statistics we're looking for."
      ]
    },
    {
      "cell_type": "code",
      "source": [
        "from collections import defaultdict"
      ],
      "metadata": {
        "id": "6J9XWYKfriep"
      },
      "execution_count": 4,
      "outputs": []
    },
    {
      "cell_type": "code",
      "metadata": {
        "id": "2Zy5qR562nZ5",
        "colab": {
          "base_uri": "https://localhost:8080/"
        },
        "outputId": "65d06171-d8a8-4364-fb80-ddf30776fd6d"
      },
      "source": [
        "# TODO: Print the 10 terms from document APW_ENG_20100101.0001 with the highest count.\n",
        "\n",
        "# Map to store terms as key and count as values\n",
        "highest_count = defaultdict(int)\n",
        "\n",
        "for term in terms:\n",
        "  if term['id'] == 'APW_ENG_20100101.0001':\n",
        "    highest_count[term['term']] += term['count']\n",
        "\n",
        "# Sort map with key as values in reverse order\n",
        "highest_count = sorted(highest_count.items(), key=lambda x: x[1], reverse=True)\n",
        "\n",
        "print(\"The 10 terms from from document APW_ENG_20100101.0001 with the highest count are: \")\n",
        "print(highest_count[:10])\n"
      ],
      "execution_count": 5,
      "outputs": [
        {
          "output_type": "stream",
          "name": "stdout",
          "text": [
            "The 10 terms from from document APW_ENG_20100101.0001 with the highest count are: \n",
            "[('a', 16), ('the', 11), ('and', 10), ('brooks', 10), ('of', 10), ('to', 10), ('he', 9), ('in', 9), ('gomez', 8), ('for', 6)]\n"
          ]
        }
      ]
    },
    {
      "cell_type": "code",
      "metadata": {
        "id": "U7OwCo0w5R1q",
        "colab": {
          "base_uri": "https://localhost:8080/"
        },
        "outputId": "1b3edd1e-5ae2-4822-a14d-98820c301da4"
      },
      "source": [
        "# TODO: Print the 10 terms with the highest total count in the corpus.\n",
        "\n",
        "highest_corpus_count = defaultdict(int)\n",
        "\n",
        "for term in terms:\n",
        "  highest_corpus_count[term['term']] += term[\"count\"]\n",
        "\n",
        "highest_corpus_count = sorted(highest_corpus_count.items(), key=lambda x: x[1], reverse=True)\n",
        "\n",
        "print(\"The 10 terms with the highest total count in the corpus are: \")\n",
        "print(highest_corpus_count[:10])"
      ],
      "execution_count": 6,
      "outputs": [
        {
          "output_type": "stream",
          "name": "stdout",
          "text": [
            "The 10 terms with the highest total count in the corpus are: \n",
            "[('the', 62216), ('to', 26931), ('in', 25659), ('a', 23383), ('of', 22326), ('and', 22125), ('said', 10888), ('for', 9716), ('on', 9382), ('that', 8942)]\n"
          ]
        }
      ]
    },
    {
      "cell_type": "markdown",
      "metadata": {
        "id": "dnNEUACW23Dd"
      },
      "source": [
        "Raw counts may not be the most informative statistic. One common improvement is to use *inverse document frequency*, the inverse of the proportion of documents that contain a given term."
      ]
    },
    {
      "cell_type": "code",
      "metadata": {
        "id": "uiUA502P2QkH"
      },
      "source": [
        "# TODO: Compute the number of distinct documents in the collection.\n",
        "N = 0\n",
        "unique_documents = defaultdict(int)\n",
        "for term in terms:\n",
        "    unique_documents[term['id']] += 1\n",
        "N = len(unique_documents)\n",
        "\n",
        "\n",
        "# TODO: Compute the number of distinct documents each term appears in and store in a dictionary.\n",
        "\n",
        "# Dictionary to store term as key and values as count of distinct documents where each term appears\n",
        "df = defaultdict(int)\n",
        "\n",
        "# keep track of visited douments per term\n",
        "visited_documents = defaultdict(set)\n",
        "\n",
        "for term in terms:\n",
        "\n",
        "    # Checking if the term has already been checked in the document\n",
        "    if term['id'] not in visited_documents[term['term']]:\n",
        "\n",
        "        # Add the document ID to the set\n",
        "        visited_documents[term['term']].add(term['id'])\n",
        "\n",
        "         # Increment the document frequency for the term\n",
        "        df[term['term']] += 1\n",
        "\n"
      ],
      "execution_count": 7,
      "outputs": []
    },
    {
      "cell_type": "code",
      "source": [
        "print(\"The number of distinct documenst the term the appears is:\", df[\"the\"])"
      ],
      "metadata": {
        "colab": {
          "base_uri": "https://localhost:8080/"
        },
        "id": "YBAFU4LLwdkW",
        "outputId": "895ff66c-2be1-4fe9-a500-5a7762a35d2e"
      },
      "execution_count": 49,
      "outputs": [
        {
          "output_type": "stream",
          "name": "stdout",
          "text": [
            "The number of distinct documenst the term the appears is: 2696\n"
          ]
        }
      ]
    },
    {
      "cell_type": "code",
      "metadata": {
        "id": "_XMPAKYNCq6Y",
        "colab": {
          "base_uri": "https://localhost:8080/"
        },
        "outputId": "1de19e55-3be7-42ee-cded-67846bf2d127"
      },
      "source": [
        "# TODO: Print the relative document frequency of 'the',\n",
        "# i.e., the number of documents that contain 'the' divided by N.\n",
        "\n",
        "print(\"The relative documenet frequency of the term the is :\" , df['the'] / N)\n"
      ],
      "execution_count": 9,
      "outputs": [
        {
          "output_type": "stream",
          "name": "stdout",
          "text": [
            "The relative documenet frequency of the term the is : 0.9704823614110871\n"
          ]
        }
      ]
    },
    {
      "cell_type": "markdown",
      "metadata": {
        "id": "ohFmwtc7Chy3"
      },
      "source": [
        "Empricially, we usually see better retrieval results if we rescale term frequency (within documents) and inverse document frequency (across documents) with the log function. Let the `tfidf` of term _t_ in document _d_ be:\n",
        "```\n",
        "tfidf(t, d) = log(count(t, d) + 1) * log(N / df(t))\n",
        "```\n",
        "\n",
        "Later in the course, we will show a probabilistic derivation of this quantity based on smoothing language models."
      ]
    },
    {
      "cell_type": "code",
      "source": [
        "from math import log\n",
        "\n",
        "# Precomputing (term, document) pairs for faster computation\n",
        "doc_term_count = defaultdict(lambda: defaultdict(int))\n",
        "\n",
        "for term in terms:\n",
        "    doc_term_count[term['term']][term['id']] += term['count']\n",
        "\n",
        "# Helper function to calculate the count of term \"t\" in a document \"d\"\n",
        "def count(t, d):\n",
        "    return doc_term_count[t][d]\n",
        "\n",
        "# Helper function to calculte the tfidf value for a term \"t\" in document \"d\"\n",
        "def tfidf(t,d):\n",
        "  return log(count(t, d) + 1) * log(N / df[t])\n"
      ],
      "metadata": {
        "id": "YOMrsph5w50t"
      },
      "execution_count": 17,
      "outputs": []
    },
    {
      "cell_type": "code",
      "source": [
        "tfidf(\"the\", \"APW_ENG_20100102.0001\")"
      ],
      "metadata": {
        "colab": {
          "base_uri": "https://localhost:8080/"
        },
        "id": "ckYOTP6KyH81",
        "outputId": "77dcdce5-8e2e-4aca-d7ed-1438ed8fda38"
      },
      "execution_count": 18,
      "outputs": [
        {
          "output_type": "execute_result",
          "data": {
            "text/plain": [
              "0.09261397250264346"
            ]
          },
          "metadata": {},
          "execution_count": 18
        }
      ]
    },
    {
      "cell_type": "code",
      "source": [
        "# TODO: Compute the tf-idf value for each term in each document.\n",
        "# Take the raw term data and add a tfidf field to each record.\n",
        "\n",
        "tfidf_terms = []\n",
        "\n",
        "for idx in range(len(terms)):\n",
        "    term_data = terms[idx].copy()\n",
        "    term_data[\"tfidf\"] = tfidf(term_data['term'], term_data['id'])\n",
        "    tfidf_terms.append(term_data)\n",
        "    print(idx, \" \", term_data)\n",
        "\n",
        "print(tfidf_terms[:1])\n",
        "print(terms[:1])\n"
      ],
      "metadata": {
        "id": "ltr_Ze-E4D1Q"
      },
      "execution_count": null,
      "outputs": []
    },
    {
      "cell_type": "code",
      "metadata": {
        "id": "NlXQmMO9HxH0",
        "colab": {
          "base_uri": "https://localhost:8080/"
        },
        "outputId": "1665a9c0-bc5d-44bd-b9a7-a7bd623ca95f"
      },
      "source": [
        "# TODO: Print the 20 term-document pairs with the highest tf-idf values.\n",
        "\n",
        "tfidf_terms = sorted(tfidf_terms, key=lambda x: x['tfidf'], reverse=True)\n",
        "\n",
        "print(\"The 20 term-document pairs with the highest tf-idf values are: \")\n",
        "print(tfidf_terms[:20])"
      ],
      "execution_count": 21,
      "outputs": [
        {
          "output_type": "stream",
          "name": "stdout",
          "text": [
            "The 20 term-document pairs with the highest tf-idf values are: \n",
            "[{'id': 'APW_ENG_20100103.0028', 'field': 'body', 'term': 'guarani', 'count': 24, 'tfidf': 23.292877770934602}, {'id': 'APW_ENG_20100105.0061', 'field': 'body', 'term': 'nomination', 'count': 95, 'tfidf': 22.519372287040166}, {'id': 'APW_ENG_20100105.0014', 'field': 'body', 'term': 'greyhound', 'count': 14, 'tfidf': 21.98520490769353}, {'id': 'APW_ENG_20100105.0014', 'field': 'title', 'term': 'greyhound', 'count': 1, 'tfidf': 21.98520490769353}, {'id': 'APW_ENG_20100105.0446', 'field': 'body', 'term': 'methane', 'count': 15, 'tfidf': 21.98520490769353}, {'id': 'APW_ENG_20100103.0015', 'field': 'body', 'term': 'kheire', 'count': 14, 'tfidf': 21.473447574098525}, {'id': 'APW_ENG_20100107.0036', 'field': 'body', 'term': 'shakespeare', 'count': 18, 'tfidf': 21.30695962728155}, {'id': 'APW_ENG_20100105.0061', 'field': 'body', 'term': 'guild', 'count': 28, 'tfidf': 20.667542714819742}, {'id': 'APW_ENG_20100106.0428', 'field': 'body', 'term': 'shakespeare', 'count': 16, 'tfidf': 20.502093188010598}, {'id': 'APW_ENG_20100102.0197', 'field': 'body', 'term': 'elkhart', 'count': 12, 'tfidf': 20.3387313629749}, {'id': 'APW_ENG_20100106.0075', 'field': 'body', 'term': 'magna', 'count': 12, 'tfidf': 20.3387313629749}, {'id': 'APW_ENG_20100106.1325', 'field': 'body', 'term': 'sutton', 'count': 20, 'tfidf': 20.22528475382428}, {'id': 'APW_ENG_20100106.1325', 'field': 'title', 'term': 'sutton', 'count': 1, 'tfidf': 20.22528475382428}, {'id': 'APW_ENG_20100104.0043', 'field': 'body', 'term': 'tohti', 'count': 11, 'tfidf': 19.70403379118801}, {'id': 'APW_ENG_20100104.0108', 'field': 'body', 'term': 'shiites', 'count': 10, 'tfidf': 19.70403379118801}, {'id': 'APW_ENG_20100104.0108', 'field': 'title', 'term': 'shiites', 'count': 1, 'tfidf': 19.70403379118801}, {'id': 'APW_ENG_20100105.0014', 'field': 'body', 'term': 'greyhounds', 'count': 11, 'tfidf': 19.70403379118801}, {'id': 'APW_ENG_20100107.0018', 'field': 'body', 'term': 'krewe', 'count': 11, 'tfidf': 19.70403379118801}, {'id': 'APW_ENG_20100107.0928', 'field': 'body', 'term': 'minhas', 'count': 11, 'tfidf': 19.70403379118801}, {'id': 'APW_ENG_20100103.0016', 'field': 'body', 'term': 'punk', 'count': 13, 'tfidf': 19.596370212389736}]\n"
          ]
        }
      ]
    },
    {
      "cell_type": "markdown",
      "metadata": {
        "id": "f61xitl1IApl"
      },
      "source": [
        "## Plotting Term Distributions\n",
        "\n",
        "Besides frequencies and tf-idf values within documents, it is often helpful to look at the distrubitions of word frequencies in the whole collection. In class, we talk about the Zipf distribution of word rank versus frequency and Heaps' Law relating the number of distinct words to the number of tokens.\n",
        "\n",
        "We might examine these distributions to see, for instance, if an unexpectedly large number of very rare terms occurs, which might indicate noise added to our data."
      ]
    },
    {
      "cell_type": "code",
      "metadata": {
        "id": "fsM5k1_5Jj7Y",
        "colab": {
          "base_uri": "https://localhost:8080/"
        },
        "outputId": "83328561-5bec-44e9-9e85-47516ffd5963"
      },
      "source": [
        "# TODO: Compute a list of the distinct words in this collection and sort it in descending order of frequency.\n",
        "# Thus frequency[0] should contain the word \"the\" and the count 62216.\n",
        "frequency = []\n",
        "distinct_terms = defaultdict(int)\n",
        "\n",
        "for term in terms:\n",
        "  distinct_terms[term['term']] += term[\"count\"]\n",
        "\n",
        "frequency = sorted(distinct_terms.items(), key=lambda x: x[1], reverse=True)\n",
        "\n",
        "print(frequency[0])"
      ],
      "execution_count": 24,
      "outputs": [
        {
          "output_type": "stream",
          "name": "stdout",
          "text": [
            "('the', 62216)\n"
          ]
        }
      ]
    },
    {
      "cell_type": "code",
      "source": [
        "import matplotlib.pyplot as plt\n"
      ],
      "metadata": {
        "id": "LImwM2o-5OdQ"
      },
      "execution_count": 26,
      "outputs": []
    },
    {
      "cell_type": "code",
      "metadata": {
        "id": "hdtc14EULkxS",
        "colab": {
          "base_uri": "https://localhost:8080/",
          "height": 472
        },
        "outputId": "5e36fbf2-c38e-4e73-e2e5-7db61597f583"
      },
      "source": [
        "# TODO: Plot a graph of the log of the rank (starting at 1) on the x-axis,\n",
        "# against the log of the frequency on the y-axis. You may use the matplotlib\n",
        "# or other library.\n",
        "from math import log\n",
        "\n",
        "rank = [log(i) for i in range(1, len(frequency) + 1)]\n",
        "log_frequency = [log(freq[1]) for freq in frequency]\n",
        "\n",
        "# Plot the graph\n",
        "plt.plot(rank, log_frequency)\n",
        "plt.xlabel(\"Log Rank\")\n",
        "plt.ylabel(\"Log Frequency\")\n",
        "plt.title(\"Zipf's Law Distribution\")\n",
        "plt.show()"
      ],
      "execution_count": 34,
      "outputs": [
        {
          "output_type": "display_data",
          "data": {
            "text/plain": [
              "<Figure size 640x480 with 1 Axes>"
            ],
            "image/png": "[encoded data removed]"
          },
          "metadata": {}
        }
      ]
    },
    {
      "cell_type": "code",
      "source": [
        "# TODO: Compute the number of tokens in the corpus.\n",
        "# Remember to count each occurrence of each word. For instance, the 62,216\n",
        "# instances of \"the\" will all count here.\n",
        "ntokens = 0\n",
        "tokens = defaultdict(int)\n",
        "\n",
        "for term in terms:\n",
        "  tokens[term['term']] += term[\"count\"]\n",
        "  ntokens += term[\"count\"]\n",
        "\n",
        "print(\"Number of tokens in the corpus: \",ntokens)\n",
        "print(\"Unique tokens: \", len(tokens))\n"
      ],
      "metadata": {
        "id": "-WdHjFCSC7WC",
        "colab": {
          "base_uri": "https://localhost:8080/"
        },
        "outputId": "bab7235d-3516-4665-8f56-defdd2d4cd83"
      },
      "execution_count": 39,
      "outputs": [
        {
          "output_type": "stream",
          "name": "stdout",
          "text": [
            "Number of tokens in the corpus:  1000000\n",
            "Unique tokens:  27556\n"
          ]
        }
      ]
    },
    {
      "cell_type": "code",
      "source": [
        "# TODO: Compute the proportion of tokens made up by the top 10 most\n",
        "# frequent words.\n",
        "\n",
        "print(\"Propotion of tokens made by the top 10: \", sum(freq[1] for freq in frequency[0:11])/ntokens)\n"
      ],
      "metadata": {
        "id": "V_7wOcqKAz9m",
        "colab": {
          "base_uri": "https://localhost:8080/"
        },
        "outputId": "abf4c80e-3971-46e7-8b0e-3f02dec175f0"
      },
      "execution_count": 46,
      "outputs": [
        {
          "output_type": "stream",
          "name": "stdout",
          "text": [
            "Propotion of tokens made by the top 10:  0.229359\n"
          ]
        }
      ]
    },
    {
      "cell_type": "code",
      "source": [
        "# TODO: Compute the proportion of tokens made up by the words that occur\n",
        "# exactly once in this collection.\n",
        "count = 0\n",
        "for freq in frequency:\n",
        "\tif freq[1] == 1:\n",
        "\t\tcount+=1\n",
        "\n",
        "print(\"Proportion of tokens made up by the words that occur exactly once in this collection: \", count/ntokens)\n",
        "\n"
      ],
      "metadata": {
        "id": "uF-1VxcZBXMM",
        "colab": {
          "base_uri": "https://localhost:8080/"
        },
        "outputId": "af612832-1b03-48a3-dcfe-78b016725b65"
      },
      "execution_count": 48,
      "outputs": [
        {
          "output_type": "stream",
          "name": "stdout",
          "text": [
            "Proportion of tokens made up by the words that occur exactly once in this collection:  0.006641\n"
          ]
        }
      ]
    },
    {
      "cell_type": "markdown",
      "metadata": {
        "id": "GdiUXaXZMFqT"
      },
      "source": [
        "## Acquiring New Documents (for CS6200)\n",
        "\n",
        "For this assignment so far, you've worked with data that's already been extracted, tokenized, and counted. In this final section, you'll explore acquiring new data.\n",
        "\n",
        "One common way of acquiring data is through application programming interfaces (APIs) to various databases. The Library of Congress's [_Chronicling America_](https://chroniclingamerica.loc.gov/) site aggregates digitized US newspapers from the past two hundred years, such as the [_Seattle Star_](https://chroniclingamerica.loc.gov/lccn/sn87093407/1925-01-17/ed-1/seq-1/) from 100 years ago.\n",
        "\n",
        "You can use [the API](https://chroniclingamerica.loc.gov/about/api/) to retrieve JSON data listing all issues of the _Seattle Star_: https://chroniclingamerica.loc.gov/lccn/sn87093407.json\n",
        "\n",
        "Note the list in the `issues` field. For example, here is the record for the January 17, 1925, issue: https://chroniclingamerica.loc.gov/lccn/sn87093407/1925-01-17/ed-1.json\n",
        "\n",
        "In that issue record, you'll see records for each page, e.g.: https://chroniclingamerica.loc.gov/lccn/sn87093407/1925-01-17/ed-1/seq-1.json\n",
        "\n",
        "And inside that page record, you'll see links to data about that page in various data formats, such as JPEG, PDF, and plain text, which is what we want here: https://chroniclingamerica.loc.gov/lccn/sn87093407/1925-01-17/ed-1/seq-1/ocr.txt\n",
        "\n",
        "This plain text was transcribed from the old page images using optical character recognition (OCR) models, and so contains errors.\n",
        "\n",
        "Your task is to acquire and analyze the issues of the _Seattle Star_ from the month of January, 1925, i.e., the issues with a date field that starts with `1925-01`. This should be about the same amount of data as the million words from the Associated Press you analyzed in the last section."
      ]
    },
    {
      "cell_type": "markdown",
      "metadata": {
        "id": "EGPVnXv2O6AN"
      },
      "source": [
        "**TODO**: Write code that calls the _Chronicling America_ API to download and extract the text from the _Seattle Star_ from January 1925. You can use the `json` library from above and any other libraries you wish to fetch data from URLs. As you would when working with any production API, you may need to limit your rate of requests."
      ]
    },
    {
      "cell_type": "code",
      "metadata": {
        "id": "VeDDz1SaPLik"
      },
      "source": [
        "# TODO: Data acquisition code here."
      ],
      "execution_count": null,
      "outputs": []
    },
    {
      "cell_type": "markdown",
      "metadata": {
        "id": "L1-oRTixPKbw"
      },
      "source": [
        "**TODO**: Write code to tokenize the text and count the resulting terms in each document. Since this data comes from automatically transcribing printed pages, some words may be hyphenated across line breaks. There is more than one right way to tokenize this data, so add comments to your code documenting your choices."
      ]
    },
    {
      "cell_type": "code",
      "metadata": {
        "id": "Ydsh0h74Pnlh"
      },
      "source": [
        "# TODO: Tokenization code here."
      ],
      "execution_count": null,
      "outputs": []
    },
    {
      "cell_type": "markdown",
      "metadata": {
        "id": "D-boFCotQ4Ur"
      },
      "source": [
        "**TODO**: Plot a graph of the log rank against log frequency for your collection, as you did for the sample collection above."
      ]
    },
    {
      "cell_type": "code",
      "source": [
        "# TODO: Plotting code here."
      ],
      "metadata": {
        "id": "-Z35asgBjiqO"
      },
      "execution_count": null,
      "outputs": []
    },
    {
      "cell_type": "markdown",
      "source": [
        "**TODO**: What do you observe about the differences between the distributions of the Associated Press and Seattle Star collections? In this text box, give some possible reasons for these differences."
      ],
      "metadata": {
        "id": "D5B-h__CjpvI"
      }
    }
  ]
}